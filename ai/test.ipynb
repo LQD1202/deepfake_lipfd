{
 "cells": [
  {
   "cell_type": "code",
   "execution_count": 1,
   "id": "ba1b1af7",
   "metadata": {},
   "outputs": [
    {
     "name": "stdout",
     "output_type": "stream",
     "text": [
      "(224, 224, 3)\n"
     ]
    }
   ],
   "source": [
    "import cv2\n",
    "\n",
    "# Correct path syntax\n",
    "image = cv2.imread(\"/media/hoangtv/0f9d3910-0ff9-406c-92e1-c2c8170ca6f4/Dat/WEBDF/WebFAPI/android/crop/4fabc6f5ebeb4e63b187a29364e91c70_0_crop1_045x.jpg\")\n",
    "\n",
    "# Check if the image is loaded properly\n",
    "if image is not None:\n",
    "    print(image.shape)\n",
    "else:\n",
    "    print(\"Error loading image.\")\n"
   ]
  }
 ],
 "metadata": {
  "kernelspec": {
   "display_name": "dat310",
   "language": "python",
   "name": "python3"
  },
  "language_info": {
   "codemirror_mode": {
    "name": "ipython",
    "version": 3
   },
   "file_extension": ".py",
   "mimetype": "text/x-python",
   "name": "python",
   "nbconvert_exporter": "python",
   "pygments_lexer": "ipython3",
   "version": "3.10.16"
  }
 },
 "nbformat": 4,
 "nbformat_minor": 5
}
